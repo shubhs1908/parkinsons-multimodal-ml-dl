{
  "nbformat": 4,
  "nbformat_minor": 0,
  "metadata": {
    "colab": {
      "provenance": []
    },
    "kernelspec": {
      "name": "python3",
      "display_name": "Python 3"
    },
    "language_info": {
      "name": "python"
    }
  },
  "cells": [
    {
      "cell_type": "code",
      "execution_count": null,
      "metadata": {
        "id": "KKv_-Nxwe8__"
      },
      "outputs": [],
      "source": [
        "!pip install xgboost imbalanced-learn --quiet"
      ]
    },
    {
      "cell_type": "code",
      "source": [],
      "metadata": {
        "id": "szgcPZzye9vd"
      },
      "execution_count": null,
      "outputs": []
    },
    {
      "cell_type": "code",
      "source": [
        "# Install CatBoost\n",
        "# 2. Imports\n",
        "import os\n",
        "import numpy as np\n",
        "import pandas as pd\n",
        "from scipy.stats import skew, kurtosis\n",
        "from scipy.signal import welch\n",
        "from sklearn.model_selection import train_test_split, RandomizedSearchCV\n",
        "from sklearn.preprocessing import StandardScaler\n",
        "from sklearn.metrics import classification_report, confusion_matrix, roc_auc_score, accuracy_score\n",
        "from imblearn.over_sampling import SMOTE\n",
        "from xgboost import XGBClassifier\n",
        "import joblib\n",
        "import seaborn as sns\n",
        "import matplotlib.pyplot as plt\n",
        "from google.colab import drive\n",
        "drive.mount('/content/drive')\n",
        "\n",
        "data_dir = \"/content/drive/MyDrive/Datasets/Parkinson's GAIT\"\n",
        "output_csv = \"/content/drive/MyDrive/Datasets/parkinsons_extracted_features_freq.csv\"\n",
        "model_path = \"/content/drive/MyDrive/parkinsons_xgb_model_freq.pkl\"\n",
        "\n",
        "# 4. Feature Functions\n",
        "def extract_features(signal):\n",
        "    return {\n",
        "        'mean': np.mean(signal),\n",
        "        'std': np.std(signal),\n",
        "        'min': np.min(signal),\n",
        "        'max': np.max(signal),\n",
        "        'range': np.ptp(signal),\n",
        "        'energy': np.sum(signal**2),\n",
        "        'entropy': -np.sum(np.nan_to_num(signal * np.log2(np.abs(signal) + 1e-9))),\n",
        "        'skewness': skew(signal),\n",
        "        'kurtosis': kurtosis(signal)\n",
        "    }\n",
        "\n",
        "def frequency_power(signal):\n",
        "    freqs, power = welch(signal, fs=100)\n",
        "    return {\n",
        "        'freq_mean': np.mean(power),\n",
        "        'freq_max': np.max(power),\n",
        "        'freq_bandwidth': np.ptp(freqs[power > np.mean(power)]),\n",
        "        'freq_entropy': -np.sum(np.nan_to_num(power * np.log2(power + 1e-9)))\n",
        "    }\n",
        "\n",
        "# 5. Feature Extraction\n",
        "feature_rows = []\n",
        "\n",
        "for fname in os.listdir(data_dir):\n",
        "    if not fname.endswith(\".txt\") or \"format\" in fname or \"SHA\" in fname:\n",
        "        continue\n",
        "\n",
        "    try:\n",
        "        label = 1 if \"Pt\" in fname else 0 if \"Co\" in fname else None\n",
        "        if label is None:\n",
        "            continue\n",
        "\n",
        "        filepath = os.path.join(data_dir, fname)\n",
        "        data = np.loadtxt(filepath)\n",
        "        left = data[:, 1:9]\n",
        "        right = data[:, 9:17]\n",
        "\n",
        "        row = {\"label\": label, \"filename\": fname}\n",
        "        for i in range(8):\n",
        "            feats_left = {**extract_features(left[:, i]), **frequency_power(left[:, i])}\n",
        "            feats_right = {**extract_features(right[:, i]), **frequency_power(right[:, i])}\n",
        "            for k, v in feats_left.items():\n",
        "                row[f\"L{i+1}_{k}\"] = v\n",
        "            for k, v in feats_right.items():\n",
        "                row[f\"R{i+1}_{k}\"] = v\n",
        "\n",
        "        feature_rows.append(row)\n",
        "    except Exception as e:\n",
        "        print(f\"Skipping {fname}: {e}\")\n",
        "\n",
        "df = pd.DataFrame(feature_rows)\n",
        "df.to_csv(output_csv, index=False)\n",
        "print(f\"✅ Features saved to: {output_csv}\")\n",
        "\n",
        "# 6. Train/Test/Validation Split\n",
        "X = df.drop(columns=[\"label\", \"filename\"])\n",
        "y = df[\"label\"]\n",
        "\n",
        "scaler = StandardScaler()\n",
        "X_scaled = scaler.fit_transform(X)\n",
        "\n",
        "smote = SMOTE(random_state=42)\n",
        "X_res, y_res = smote.fit_resample(X_scaled, y)\n",
        "\n",
        "X_temp, X_test, y_temp, y_test = train_test_split(X_res, y_res, test_size=0.2, stratify=y_res, random_state=42)\n",
        "X_train, X_val, y_train, y_val = train_test_split(X_temp, y_temp, test_size=0.2, stratify=y_temp, random_state=42)\n",
        "\n",
        "# 7. Hyperparameter Tuning for XGBoost\n",
        "param_grid = {\n",
        "    'n_estimators': [100, 300, 500],\n",
        "    'max_depth': [5, 10, 15],\n",
        "    'learning_rate': [0.01, 0.05, 0.1],\n",
        "    'subsample': [0.7, 0.8, 1.0],\n",
        "    'colsample_bytree': [0.7, 0.8, 1.0]\n",
        "}\n",
        "\n",
        "search = RandomizedSearchCV(\n",
        "    XGBClassifier(eval_metric='logloss', random_state=42),\n",
        "    param_distributions=param_grid,\n",
        "    n_iter=20,\n",
        "    scoring='accuracy',\n",
        "    n_jobs=-1,\n",
        "    cv=5,\n",
        "    verbose=2\n",
        ")\n",
        "\n",
        "search.fit(X_train, y_train)\n",
        "best_model = search.best_estimator_\n",
        "best_model.fit(X_train, y_train)\n",
        "\n",
        "# 8. Evaluation Function\n",
        "def evaluate(name, model, X, y):\n",
        "    y_pred = model.predict(X)\n",
        "    y_proba = model.predict_proba(X)[:, 1]\n",
        "    print(f\"\\n== {name} ==\")\n",
        "    print(classification_report(y, y_pred))\n",
        "    print(f\"AUC: {roc_auc_score(y, y_proba):.4f}\")\n",
        "    print(f\"Accuracy: {accuracy_score(y, y_pred):.4f}\")\n",
        "    sns.heatmap(confusion_matrix(y, y_pred), annot=True, fmt='d', cmap='Blues')\n",
        "    plt.title(f\"{name} Confusion Matrix\")\n",
        "    plt.xlabel(\"Predicted\")\n",
        "    plt.ylabel(\"Actual\")\n",
        "    plt.show()\n",
        "\n",
        "# 9. Final Evaluation\n",
        "evaluate(\"Validation Set\", best_model, X_val, y_val)\n",
        "evaluate(\"Test Set\", best_model, X_test, y_test)\n",
        "\n",
        "# 10. Save Model\n",
        "joblib.dump(best_model, model_path)\n",
        "print(f\"✅ Tuned XGBoost model saved to: {model_path}\")"
      ],
      "metadata": {
        "colab": {
          "base_uri": "https://localhost:8080/"
        },
        "id": "ChIgxZlmfPd8",
        "outputId": "d37e5f75-3741-4d67-bba1-fd4e546d5ae6"
      },
      "execution_count": null,
      "outputs": [
        {
          "output_type": "stream",
          "name": "stdout",
          "text": [
            "Requirement already satisfied: catboost in /usr/local/lib/python3.11/dist-packages (1.2.8)\n",
            "Requirement already satisfied: graphviz in /usr/local/lib/python3.11/dist-packages (from catboost) (0.21)\n",
            "Requirement already satisfied: matplotlib in /usr/local/lib/python3.11/dist-packages (from catboost) (3.10.0)\n",
            "Requirement already satisfied: numpy<3.0,>=1.16.0 in /usr/local/lib/python3.11/dist-packages (from catboost) (2.0.2)\n",
            "Requirement already satisfied: pandas>=0.24 in /usr/local/lib/python3.11/dist-packages (from catboost) (2.2.2)\n",
            "Requirement already satisfied: scipy in /usr/local/lib/python3.11/dist-packages (from catboost) (1.15.3)\n",
            "Requirement already satisfied: plotly in /usr/local/lib/python3.11/dist-packages (from catboost) (5.24.1)\n",
            "Requirement already satisfied: six in /usr/local/lib/python3.11/dist-packages (from catboost) (1.17.0)\n",
            "Requirement already satisfied: python-dateutil>=2.8.2 in /usr/local/lib/python3.11/dist-packages (from pandas>=0.24->catboost) (2.9.0.post0)\n",
            "Requirement already satisfied: pytz>=2020.1 in /usr/local/lib/python3.11/dist-packages (from pandas>=0.24->catboost) (2025.2)\n",
            "Requirement already satisfied: tzdata>=2022.7 in /usr/local/lib/python3.11/dist-packages (from pandas>=0.24->catboost) (2025.2)\n",
            "Requirement already satisfied: contourpy>=1.0.1 in /usr/local/lib/python3.11/dist-packages (from matplotlib->catboost) (1.3.2)\n",
            "Requirement already satisfied: cycler>=0.10 in /usr/local/lib/python3.11/dist-packages (from matplotlib->catboost) (0.12.1)\n",
            "Requirement already satisfied: fonttools>=4.22.0 in /usr/local/lib/python3.11/dist-packages (from matplotlib->catboost) (4.58.4)\n",
            "Requirement already satisfied: kiwisolver>=1.3.1 in /usr/local/lib/python3.11/dist-packages (from matplotlib->catboost) (1.4.8)\n",
            "Requirement already satisfied: packaging>=20.0 in /usr/local/lib/python3.11/dist-packages (from matplotlib->catboost) (24.2)\n",
            "Requirement already satisfied: pillow>=8 in /usr/local/lib/python3.11/dist-packages (from matplotlib->catboost) (11.2.1)\n",
            "Requirement already satisfied: pyparsing>=2.3.1 in /usr/local/lib/python3.11/dist-packages (from matplotlib->catboost) (3.2.3)\n",
            "Requirement already satisfied: tenacity>=6.2.0 in /usr/local/lib/python3.11/dist-packages (from plotly->catboost) (8.5.0)\n",
            "Drive already mounted at /content/drive; to attempt to forcibly remount, call drive.mount(\"/content/drive\", force_remount=True).\n",
            "✅ Features saved to: /content/drive/MyDrive/Datasets/parkinsons_extracted_features_freq.csv\n",
            "Fitting 5 folds for each of 20 candidates, totalling 100 fits\n",
            "\n",
            "== Validation Set ==\n",
            "              precision    recall  f1-score   support\n",
            "\n",
            "           0       0.87      0.97      0.92        35\n",
            "           1       0.97      0.85      0.91        34\n",
            "\n",
            "    accuracy                           0.91        69\n",
            "   macro avg       0.92      0.91      0.91        69\n",
            "weighted avg       0.92      0.91      0.91        69\n",
            "\n",
            "AUC: 0.9815\n",
            "Accuracy: 0.9130\n"
          ]
        },
        {
          "output_type": "display_data",
          "data": {
            "text/plain": [
              "<Figure size 640x480 with 2 Axes>"
            ],
            "image/png": "[encoded data removed]"
          },
          "metadata": {}
        },
        {
          "output_type": "stream",
          "name": "stdout",
          "text": [
            "\n",
            "== Test Set ==\n",
            "              precision    recall  f1-score   support\n",
            "\n",
            "           0       0.93      0.98      0.95        43\n",
            "           1       0.98      0.93      0.95        43\n",
            "\n",
            "    accuracy                           0.95        86\n",
            "   macro avg       0.95      0.95      0.95        86\n",
            "weighted avg       0.95      0.95      0.95        86\n",
            "\n",
            "AUC: 0.9924\n",
            "Accuracy: 0.9535\n"
          ]
        },
        {
          "output_type": "display_data",
          "data": {
            "text/plain": [
              "<Figure size 640x480 with 2 Axes>"
            ],
            "image/png": "[encoded data removed]"
          },
          "metadata": {}
        },
        {
          "output_type": "stream",
          "name": "stdout",
          "text": [
            "✅ Tuned XGBoost model saved to: /content/drive/MyDrive/parkinsons_xgb_model_freq.pkl\n"
          ]
        }
      ]
    },
    {
      "cell_type": "code",
      "source": [],
      "metadata": {
        "id": "7tExAi9NfbsZ"
      },
      "execution_count": null,
      "outputs": []
    }
  ]
}